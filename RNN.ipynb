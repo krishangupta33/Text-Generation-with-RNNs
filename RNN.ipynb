{
 "cells": [
  {
   "cell_type": "markdown",
   "metadata": {},
   "source": [
    "## IMPORT LIBRARIES"
   ]
  },
  {
   "cell_type": "code",
   "execution_count": 28,
   "metadata": {},
   "outputs": [],
   "source": [
    "import numpy as np\n",
    "import tensorflow as tf\n",
    "from tensorflow.keras.models import Sequential\n",
    "from tensorflow.keras.layers import Dense, LSTM\n",
    "import io\n"
   ]
  },
  {
   "cell_type": "markdown",
   "metadata": {},
   "source": [
    "### Importing Tiny Shakespeare's dataset"
   ]
  },
  {
   "cell_type": "code",
   "execution_count": 4,
   "metadata": {},
   "outputs": [
    {
     "data": {
      "text/plain": [
       "\"first citizen:\\nbefore we proceed any further, hear me speak.\\n\\nall:\\nspeak, speak.\\n\\nfirst citizen:\\nyou are all resolved rather to die than to famish?\\n\\nall:\\nresolved. resolved.\\n\\nfirst citizen:\\nfirst, you know caius marcius is chief enemy to the people.\\n\\nall:\\nwe know't, we know't.\\n\\nfirst citizen:\\nlet us kill him, and we'll have corn at our own price.\\nis't a verdict?\\n\\nall:\\nno more talking on't; let it be done: away, away!\\n\\nsecond citizen:\\none word, good citizens.\\n\\nfirst citizen:\\nwe are accounted poor citizens, the patricians good.\\nwhat authority surfeits on would relieve us: if they\\nwould yield us but the superfluity, while it were\\nwholesome, we might guess they relieved us humanely;\\nbut they think we are too dear: the leanness that\\nafflicts us, the object of our misery, is as an\\ninventory to particularise their abundance; our\\nsufferance is a gain to them let us revenge this with\\nour pikes, ere we become rakes: for the gods know i\\nspeak this in hunger for bread, not in thirst for revenge.\\n\\nsecond citizen:\\nwould you proceed especially against caius marcius?\\n\\nall:\\nagainst him first: he's a very dog to the commonalty.\\n\\nsecond citizen:\\nconsider you what services he has done for his country?\\n\\nfirst citizen:\\nvery well; and could be content to give him good\\nreport fort, but that he pays himself with being proud.\\n\\nsecond citizen:\\nnay, but speak not maliciously.\\n\\nfirst citizen:\\ni say unto you, what he hath done famously, he did\\nit to that end: though soft-conscienced men can be\\ncontent to say it was for his country he did it to\\nplease his mother and to be partly proud; which he\\nis, even till the altitude of his virtue.\\n\\nsecond citizen:\\nwhat he cannot help in his nature, you account a\\nvice in him. you must in no way say he is covetous.\\n\\nfirst citizen:\\nif i must not, i need not be barren of accusations;\\nhe hath faults, with surplus, to tire in repetition.\\nwhat shouts are these? the other side o' the city\\nis risen: why stay we prating here? to the capitol!\\n\\nall:\\ncome, come.\\n\\nfirst citizen:\\nsoft! who comes here?\\n\\nsecond citizen:\\nworthy menenius agrippa; one that hath always loved\\nthe people.\\n\\nfirst citizen:\\nhe's one honest enough: would all the rest were so!\\n\\nmenenius:\\nwhat work's, my countrymen, in hand? where go you\\nwith bats and clubs? the matter? speak, i pray you.\\n\\nfirst citizen:\\nour business is not unknown to the senate; they have\\nhad inkling this fortnight what we intend to do,\\nwhich now we'll show 'em in deeds. they say poor\\nsuitors have strong breaths: they shall know we\\nhave strong arms too.\\n\\nmenenius:\\nwhy, masters, my good friends, mine honest neighbours,\\nwill you undo yourselves?\\n\\nfirst citizen:\\nwe cannot, sir, we are undone already.\\n\\nmenenius:\\ni tell you, friends, most charitable care\\nhave the patricians of you. for your wants,\\nyour suffering in this dearth, you may as well\\nstrike at the heaven with your staves as lift them\\nagainst the roman state, whose course will on\\nthe way it takes, cracking ten thousand curbs\\nof more strong link asunder than can ever\\nappear in your impediment. for the dearth,\\nthe gods, not the patricians, make it, and\\nyour knees to them, not arms, must help. alack,\\nyou are transported by calamity\\nthither where more attends you, and you slander\\nthe helms o' the state, who care for you like fathers,\\nwhen you curse them as enemies.\\n\\nfirst citizen:\\ncare for us! true, indeed! they ne'er cared for us\\nyet: suffer us to famish, and their store-houses\\ncrammed with grain; make edicts for usury, to\\nsupport usurers; repeal daily any wholesome act\\nestablished against the rich, and provide more\\npiercing statutes daily, to chain up and restrain\\nthe poor. if the wars eat us not up, they will; and\\nthere's all the love they bear us.\\n\\nmenenius:\\neither you must\\nconfess yourselves wondrous malicious,\\nor be accused of folly. i shall tell you\\na pretty tale: it may be you have heard it;\\nbut, since it serves my purpose, i will venture\\nto stale 't a little more.\\n\\nfirst citizen:\\nwell, i'll hear it, sir: yet you must not think to\\nfob off our disgrace with a tale: but, an 't please\\nyou, deliver.\\n\\nmenenius:\\nthere was a time when all the body's members\\nrebell'd against the belly, thus accused it:\\nthat only like a gulf it did remain\\ni' the midst o' the body, idle and unactive,\\nstill cupboarding the viand, never bearing\\nlike labour with the rest, where the other instruments\\ndid see and hear, devise, instruct, walk, feel,\\nand, mutually participate, did minister\\nunto the appetite and affection common\\nof the whole body. the belly answer'd--\\n\\nfirst citizen:\\nwell, sir, what answer made the belly?\\n\\nmenenius:\\nsir, i shall tell you. with a kind of smile,\\nwhich ne'er came from the lungs, but even thus--\\nfor, look you, i may make the belly smile\\nas well as speak--it tauntingly replied\\nto the discontented members, the mutinous parts\\nthat envied his receipt; even so most fitly\\nas you malign our senators for that\\nthey are not such as you.\\n\\nfirst citizen:\\nyour belly's answer? what!\\nthe kingly-crowned head, the vigilant eye,\\nthe counsellor heart, the arm our soldier,\\nour steed the leg, the tongue our trumpeter.\\nwith other muniments and petty helps\\nin this our fabric, if that they--\\n\\nmenenius:\\nwhat then?\\n'fore me, this fellow speaks! what then? what then?\\n\\nfirst citizen:\\nshould by the cormorant belly be restrain'd,\\nwho is the sink o' the body,--\\n\\nmenenius:\\nwell, what then?\\n\\nfirst citizen:\\nthe former agents, if they did complain,\\nwhat could the belly answer?\\n\\nmenenius:\\ni will tell you\\nif you'll bestow a small--of what you have little--\\npatience awhile, you'll hear the belly's answer.\\n\\nfirst citizen:\\nye're long about it.\\n\\nmenenius:\\nnote me this, good friend;\\nyour most grave belly was deliberate,\\nnot rash like his accusers, and thus answer'd:\\n'true is it, my incorporate friends,' quoth he,\\n'that i receive the general food at first,\\nwhich you do live upon; and fit it is,\\nbecause i am the store-house and the shop\\nof the whole body: but, if you do remember,\\ni send it through the rivers of your blood,\\neven to the court, the heart, to the seat o' the brain;\\nand, through the cranks and offices of man,\\nthe strongest nerves and small inferior veins\\nfrom me receive that natural competency\\nwhereby they live: and though that all at once,\\nyou, my good friends,'--this says the belly, mark me,--\\n\\nfirst citizen:\\nay, sir; well, well.\\n\\nmenenius:\\n'though all at once cannot\\nsee what i do deliver out to each,\\nyet i can make my audit up, that all\\nfrom me do back receive the flour of all,\\nand leave me but the bran.' what say you to't?\\n\\nfirst citizen:\\nit was an answer: how apply you this?\\n\\nmenenius:\\nthe senators of rome are this good belly,\\nand you the mutinous members; for examine\\ntheir counsels and their cares, digest things rightly\\ntouching the weal o' the common, you shall find\\nno public benefit which you receive\\nbut it proceeds or comes from them to you\\nand no way from yourselves. what do you think,\\nyou, the great toe of this assembly?\\n\\nfirst citizen:\\ni the great toe! why the great toe?\\n\\nmenenius:\\nfor that, being one o' the lowest, basest, poorest,\\nof this most wise rebellion, thou go'st foremost:\\nthou rascal, that art worst in blood to run,\\nlead'st first to win some vantage.\\nbut make you ready your stiff bats and clubs:\\nrome and her rats are at the point of battle;\\nthe one side must have bale.\\nhail, noble marcius!\\n\\nmarcius:\\nthanks. what's the matter, you dissentious rogues,\\nthat, rubbing the poor itch of your opinion,\\nmake yourselves scabs?\\n\\nfirst citizen:\\nwe have ever your good word.\\n\\nmarcius:\\nhe that will give good words to thee will flatter\\nbeneath abhorring. what would you have, you curs,\\nthat like nor peace nor war? the one affrights you,\\nthe other makes you proud. he that trusts to you,\\nwhere he should find you lions, finds you hares;\\nwhere foxes, geese: you are no surer, no,\\nthan is the coal of fire upon the ice,\\nor hailstone in the sun. your virtue is\\nto make him worthy whose offence subdues him\\nand curse that justice did it.\\nwho deserves greatness\\ndeserves your hate; and your affections are\\na sick man's appetite, who desires most that\\nwhich would increase his evil. he that depends\\nupon your favours swims with fins of lead\\nand hews down oaks with rushes. hang ye! trust ye?\\nwith every minute you do change a mind,\\nand call him noble that was now your hate,\\nhim vile that was your garland. what's the matter,\\nthat in these several places of the city\\nyou cry against the noble senate, who,\\nunder the gods, keep you in awe, which else\\nwould feed on one another? what's their seeking?\\n\\nmenenius:\\nfor corn at their own rates; whereof, they say,\\nthe city is well stored.\\n\\nmarcius:\\nhang 'em! they say!\\nthey'll sit by the fire, and presume to know\\nwhat's done i' the capitol; who's like to rise,\\nwho thrives and who declines; side factions\\nand give out\\nconjectural marriages; making parties strong\\nand feebling such as stand not in their liking\\nbelow their cobbled shoes. they say there's\\ngrain enough!\\nwould the nobility lay aside their ruth,\\nand let me use my sword, i'll make a quarry\\nwith thousands of these quarter'd slaves, as high\\nas i could pick my lance.\\n\\nmenenius:\\nnay, these are almost thoroughly persuaded;\\nfor though abundantly they lack discretion,\\nyet are they passing cowardly. but, i beseech you,\\nwhat says the other troop?\\n\\nmarcius:\\nthey are dissolved: hang 'em!\\nthey said they were an-hungry; sigh'd forth proverbs,\\nthat hunger broke stone walls, that dogs must eat,\\nthat meat was made for mouths, that the gods sent not\\ncorn for the rich men only: with these shreds\\nthey vented their complainings; which being answer'd,\\nand a petition granted them, a strange one--\\nto break the heart of generosity,\\nand make bold power look pale--they threw their caps\\nas they would hang them on the horns o' the moon,\\nshouting their emulation.\\n\\nmenenius:\\nwhat is granted them?\\n\\nmarcius:\\nfive tribunes to defend their vulgar wisdoms,\\nof their own choice: one's junius brutus,\\nsicinius velutus, and i know not--'sdeath!\\nthe rabble should have first unroof'd the city,\\nere so prevail'd with me: \""
      ]
     },
     "execution_count": 4,
     "metadata": {},
     "output_type": "execute_result"
    }
   ],
   "source": [
    "# Load the dataset (assuming it's a plain text file)\n",
    "path = 'shakespeare.txt'\n",
    "with io.open(path, encoding='utf-8') as f:\n",
    "    text = f.read().lower()  # Convert text to lowercase\n",
    "\n",
    "text[:10000]"
   ]
  },
  {
   "cell_type": "markdown",
   "metadata": {},
   "source": [
    "## Data Preprocessing and Preparation"
   ]
  },
  {
   "cell_type": "code",
   "execution_count": 5,
   "metadata": {},
   "outputs": [],
   "source": [
    "# Creating a mapping of unique characters to indices\n",
    "chars = sorted(list(set(text)))\n",
    "char_indices = dict((c, i) for i, c in enumerate(chars))\n",
    "indices_char = dict((i, c) for i, c in enumerate(chars))\n",
    "\n",
    "# Create the sequences used by the neural network\n",
    "maxlen = 40\n",
    "step = 3\n",
    "sentences = []\n",
    "next_chars = []\n",
    "for i in range(0, len(text) - maxlen, step):\n",
    "    sentences.append(text[i: i + maxlen])\n",
    "    next_chars.append(text[i + maxlen])\n",
    "\n",
    "# Vectorization\n",
    "x = np.zeros((len(sentences), maxlen, len(chars)), dtype=bool)\n",
    "y = np.zeros((len(sentences), len(chars)), dtype=bool)\n",
    "for i, sentence in enumerate(sentences):\n",
    "    for t, char in enumerate(sentence):\n",
    "        x[i, t, char_indices[char]] = True\n",
    "    y[i, char_indices[next_chars[i]]] = True\n"
   ]
  },
  {
   "cell_type": "markdown",
   "metadata": {},
   "source": [
    "## Train, Validation and Test Data"
   ]
  },
  {
   "cell_type": "code",
   "execution_count": 14,
   "metadata": {},
   "outputs": [],
   "source": [
    "from sklearn.model_selection import train_test_split\n",
    "\n",
    "# Split the data into training and testing sets\n",
    "x_train, x_test, y_train, y_test = train_test_split(x, y, test_size=0.2, random_state=42)\n",
    "\n",
    "# Further split the training data into training and validation sets\n",
    "x_train, x_val, y_train, y_val = train_test_split(x_train, y_train, test_size=0.25, random_state=42)"
   ]
  },
  {
   "cell_type": "markdown",
   "metadata": {},
   "source": [
    "## Model Architecture"
   ]
  },
  {
   "cell_type": "code",
   "execution_count": 24,
   "metadata": {},
   "outputs": [],
   "source": [
    "model = Sequential()\n",
    "model.add(LSTM(128, input_shape=(maxlen, len(chars))))\n",
    "model.add(Dense(len(chars), activation='softmax'))\n",
    "\n",
    "optimizer = tf.keras.optimizers.legacy.RMSprop(learning_rate=0.01)\n",
    "model.compile(loss='categorical_crossentropy', optimizer=optimizer)\n"
   ]
  },
  {
   "cell_type": "markdown",
   "metadata": {},
   "source": [
    "## Training the Model"
   ]
  },
  {
   "cell_type": "code",
   "execution_count": 25,
   "metadata": {},
   "outputs": [
    {
     "name": "stdout",
     "output_type": "stream",
     "text": [
      "Epoch 1/2\n",
      "1743/1743 [==============================] - 74s 42ms/step - loss: 1.9467 - val_loss: 1.7012\n",
      "Epoch 2/2\n",
      "1743/1743 [==============================] - 76s 44ms/step - loss: 1.6225 - val_loss: 1.6123\n"
     ]
    }
   ],
   "source": [
    "# Training the model\n",
    "history = model.fit(x_train, y_train, validation_data=(x_val, y_val), batch_size=128, epochs=2)"
   ]
  },
  {
   "cell_type": "code",
   "execution_count": 26,
   "metadata": {},
   "outputs": [
    {
     "name": "stdout",
     "output_type": "stream",
     "text": [
      "[1.7012050151824951, 1.6123467683792114]\n"
     ]
    }
   ],
   "source": [
    "print(history.history['val_loss'])"
   ]
  },
  {
   "cell_type": "markdown",
   "metadata": {},
   "source": [
    "## Saving the Model"
   ]
  },
  {
   "cell_type": "code",
   "execution_count": 29,
   "metadata": {},
   "outputs": [
    {
     "name": "stderr",
     "output_type": "stream",
     "text": [
      "/opt/homebrew/lib/python3.11/site-packages/keras/src/engine/training.py:3000: UserWarning: You are saving your model as an HDF5 file via `model.save()`. This file format is considered legacy. We recommend using instead the native Keras format, e.g. `model.save('my_model.keras')`.\n",
      "  saving_api.save_model(\n"
     ]
    }
   ],
   "source": [
    "model.save('my_model.h5')"
   ]
  },
  {
   "cell_type": "markdown",
   "metadata": {},
   "source": [
    "## Testing the Model"
   ]
  },
  {
   "cell_type": "code",
   "execution_count": 30,
   "metadata": {},
   "outputs": [
    {
     "name": "stdout",
     "output_type": "stream",
     "text": [
      "2324/2324 [==============================] - 14s 6ms/step - loss: 1.6211\n",
      "Test loss: 1.6210973262786865\n"
     ]
    }
   ],
   "source": [
    "#load the model\n",
    "model_loaded = tf.keras.models.load_model('my_model.h5')\n",
    "# Evaluate the model on the test data\n",
    "test_loss = model_loaded.evaluate(x_test, y_test)\n",
    "\n",
    "print(\"Test loss:\", test_loss)"
   ]
  },
  {
   "cell_type": "markdown",
   "metadata": {},
   "source": [
    "## Generating Text"
   ]
  },
  {
   "cell_type": "code",
   "execution_count": 32,
   "metadata": {},
   "outputs": [
    {
     "name": "stdout",
     "output_type": "stream",
     "text": [
      "you are all resolved rather to die than to whater\n",
      "here were he is the world when the bost he is have to me,\n",
      "but is grace and trumt your swear fall.\n",
      "\n",
      "king richard ii:\n",
      "that he was be same in the ever it is here\n",
      "his amary and farewers, and well him, in\n",
      "but your for a his duke thou have proce.\n",
      "\n",
      "king richard ii:\n",
      "that here be thy death, and in the one, by our sentice;\n",
      "and let me come and steep here it is myselves\n",
      "but be what we could thou lart \n"
     ]
    }
   ],
   "source": [
    "def sample(preds, temperature=1.0):\n",
    "    preds = np.asarray(preds).astype('float64')\n",
    "    preds = np.log(preds) / temperature\n",
    "    exp_preds = np.exp(preds)\n",
    "    preds = exp_preds / np.sum(exp_preds)\n",
    "    probas = np.random.multinomial(1, preds, 1)\n",
    "    return np.argmax(probas)\n",
    "\n",
    "\n",
    "\n",
    "sentence = \"you are all resolved rather to die than to\"\n",
    "generated = sentence\n",
    "\n",
    "for i in range(400):\n",
    "    x_pred = np.zeros((1, maxlen, len(chars)))\n",
    "    sentence = sentence[-maxlen:]  # Ensure sentence length doesn't exceed maxlen\n",
    "    for t, char in enumerate(sentence):\n",
    "        x_pred[0, t, char_indices[char]] = True\n",
    "\n",
    "    preds = model_loaded.predict(x_pred, verbose=0)[0]\n",
    "    next_index = sample(preds, 0.5)\n",
    "    next_char = indices_char[next_index]\n",
    "\n",
    "    sentence = sentence[1:] + next_char\n",
    "\n",
    "    generated += next_char\n",
    "\n",
    "print(generated)\n"
   ]
  }
 ],
 "metadata": {
  "kernelspec": {
   "display_name": "Python 3",
   "language": "python",
   "name": "python3"
  },
  "language_info": {
   "codemirror_mode": {
    "name": "ipython",
    "version": 3
   },
   "file_extension": ".py",
   "mimetype": "text/x-python",
   "name": "python",
   "nbconvert_exporter": "python",
   "pygments_lexer": "ipython3",
   "version": "3.11.9"
  }
 },
 "nbformat": 4,
 "nbformat_minor": 2
}
